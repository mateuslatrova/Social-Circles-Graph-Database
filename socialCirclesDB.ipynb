{
  "nbformat": 4,
  "nbformat_minor": 0,
  "metadata": {
    "language_info": {
      "codemirror_mode": {
        "name": "ipython",
        "version": 3
      },
      "file_extension": ".py",
      "mimetype": "text/x-python",
      "name": "python",
      "nbconvert_exporter": "python",
      "pygments_lexer": "ipython3",
      "version": "3.8.3-final"
    },
    "orig_nbformat": 2,
    "kernelspec": {
      "name": "python3",
      "display_name": "Python 3"
    },
    "colab": {
      "name": "A2.ipynb",
      "provenance": []
    }
  },
  "cells": [
    {
      "cell_type": "code",
      "metadata": {
        "id": "ZK77dPajzx13"
      },
      "source": [
        "import networkx as nx\n",
        "import matplotlib.pyplot as plt\n",
        "import json\n",
        "import os\n",
        "import sys\n",
        "import pandas as pd\n",
        "import getpass\n",
        "import pymysql\n",
        "import numpy as np\n",
        "\n",
        "# Constant:\n",
        "numOfDatasets = 4"
      ],
      "execution_count": 1,
      "outputs": []
    },
    {
      "source": [
        "### Defining functions"
      ],
      "cell_type": "markdown",
      "metadata": {}
    },
    {
      "cell_type": "code",
      "execution_count": 2,
      "metadata": {},
      "outputs": [],
      "source": [
        "### Transform text data into CSV files ###\n",
        "def formatFeatnames(data):\n",
        "    names = []\n",
        "    featnames = []\n",
        "    for line in data:\n",
        "        names = line.split(' ',1)\n",
        "        string = names[1]\n",
        "        string = string[:-1]\n",
        "        names[1] = string\n",
        "        featnames.append(names[1])\n",
        "        \n",
        "    return featnames\n",
        "\n",
        "def formatFeats(data):\n",
        "    feat = []\n",
        "    id_list = []\n",
        "    for line in data:\n",
        "        feats = line.split()\n",
        "        id_list.append(feats[0])\n",
        "        feat.append(feats[1:])\n",
        "    return id_list, pd.DataFrame(feat).T\n",
        "\n",
        "### Extract data from the database ###\n",
        "def getUsersInfo(cur,user):\n",
        "    cur.execute(\"SELECT * FROM \" + user)\n",
        "    feats = []\n",
        "    for feat in cur.fetchall():\n",
        "        feats.append(feat)\n",
        "\n",
        "    featnames = []\n",
        "    cur.execute(\"DESCRIBE \" + user)\n",
        "    for col in cur.fetchall():\n",
        "        if col[0] == 'id':\n",
        "            continue\n",
        "        featnames.append(col[0])\n",
        "\n",
        "    return feats, featnames\n",
        "\n",
        "def getEdges(cur,g):\n",
        "    \n",
        "    cur.execute(\"SELECT x,y FROM edge\")\n",
        "    edges = []\n",
        "\n",
        "    for e in cur.fetchall():\n",
        "        edges.append(e)\n",
        "    \n",
        "    for e in edges:\n",
        "        g.add_edge(e[0],e[1])\n",
        "    \n",
        "### Inserts nodes and the extracted data into the graph g ###\n",
        "def createNodes(feats,featnames,g,color):\n",
        "  \n",
        "    for node in feats:\n",
        "        label = node[0]\n",
        "        g.add_node(label)\n",
        "        size = len(node)\n",
        "        for i in range(1,size):        \n",
        "            g.nodes[label]['color'] = color\n",
        "        k = 1\n",
        "        for featname in featnames:\n",
        "            g.nodes[label][featname] = node[k]\n",
        "            k += 1\n",
        "\n",
        "\n"
      ]
    },
    {
      "source": [
        "## Modeling Data\n",
        "### Reading all edges datasets and modeling"
      ],
      "cell_type": "markdown",
      "metadata": {}
    },
    {
      "cell_type": "code",
      "execution_count": 4,
      "metadata": {},
      "outputs": [],
      "source": [
        "dfs = []\n",
        "edge = []\n",
        "edges = []\n",
        "\n",
        "for i in range(numOfDatasets):\n",
        "    dfs.append(open(\"dataset/\" + str(i) + \".edges\",\"r\"))\n",
        "\n",
        "for df in dfs:\n",
        "    for line in df:\n",
        "        edge = line.split()\n",
        "        edges.append(edge)\n",
        "        "
      ]
    },
    {
      "cell_type": "code",
      "execution_count": 14,
      "metadata": {},
      "outputs": [
        {
          "output_type": "execute_result",
          "data": {
            "text/plain": [
              "     x    y\n",
              "0  236  186\n",
              "1  122  285\n",
              "2   24  346\n",
              "3  271  304\n",
              "4  176    9"
            ],
            "text/html": "<div>\n<style scoped>\n    .dataframe tbody tr th:only-of-type {\n        vertical-align: middle;\n    }\n\n    .dataframe tbody tr th {\n        vertical-align: top;\n    }\n\n    .dataframe thead th {\n        text-align: right;\n    }\n</style>\n<table border=\"1\" class=\"dataframe\">\n  <thead>\n    <tr style=\"text-align: right;\">\n      <th></th>\n      <th>x</th>\n      <th>y</th>\n    </tr>\n  </thead>\n  <tbody>\n    <tr>\n      <th>0</th>\n      <td>236</td>\n      <td>186</td>\n    </tr>\n    <tr>\n      <th>1</th>\n      <td>122</td>\n      <td>285</td>\n    </tr>\n    <tr>\n      <th>2</th>\n      <td>24</td>\n      <td>346</td>\n    </tr>\n    <tr>\n      <th>3</th>\n      <td>271</td>\n      <td>304</td>\n    </tr>\n    <tr>\n      <th>4</th>\n      <td>176</td>\n      <td>9</td>\n    </tr>\n  </tbody>\n</table>\n</div>"
          },
          "metadata": {},
          "execution_count": 14
        }
      ],
      "source": [
        "edges = pd.DataFrame(edges)\n",
        "edges = edges.rename(columns = {0: 'x', 1: 'y'}, inplace = False)\n",
        "\n",
        "edges.head()"
      ]
    },
    {
      "cell_type": "code",
      "execution_count": null,
      "metadata": {},
      "outputs": [],
      "source": [
        "edges.to_csv('dataset/all_edges.csv', index=False)"
      ]
    },
    {
      "source": [
        "### Reading all featnames datasets and modeling"
      ],
      "cell_type": "markdown",
      "metadata": {}
    },
    {
      "cell_type": "code",
      "execution_count": 15,
      "metadata": {},
      "outputs": [],
      "source": [
        "dfs = []\n",
        "names = []\n",
        "featname = []\n",
        "\n",
        "for i in range(numOfDatasets):\n",
        "    dfs.append(open(\"dataset/\" + str(i) + \".featnames\",\"r\"))\n",
        "    featname.append(formatFeatnames(dfs[i]))"
      ]
    },
    {
      "cell_type": "code",
      "execution_count": 16,
      "metadata": {},
      "outputs": [],
      "source": [
        "fn0 = pd.DataFrame(featname[0])\n",
        "fn1 = pd.DataFrame(featname[1])\n",
        "fn2 = pd.DataFrame(featname[2])\n",
        "fn3 = pd.DataFrame(featname[3])\n",
        "\n",
        "featnames = [fn0, fn1, fn2, fn3]"
      ]
    },
    {
      "source": [
        "### Reading all feats datasets and modeling"
      ],
      "cell_type": "markdown",
      "metadata": {}
    },
    {
      "cell_type": "code",
      "execution_count": 17,
      "metadata": {},
      "outputs": [],
      "source": [
        "dfs = []\n",
        "feats = []\n",
        "id_list = []\n",
        "\n",
        "for i in range(numOfDatasets):\n",
        "    dfs.append(open(\"dataset/\" + str(i) + \".feat\",\"r\"))  "
      ]
    },
    {
      "cell_type": "code",
      "execution_count": 18,
      "metadata": {},
      "outputs": [],
      "source": [
        "id_list0, f0 = formatFeats(dfs[0])\n",
        "id_list1, f1 = formatFeats(dfs[1])\n",
        "id_list2, f2 = formatFeats(dfs[2])\n",
        "id_list3, f3 = formatFeats(dfs[3])\n",
        "\n",
        "id_list = [id_list0, id_list1, id_list2, id_list3]\n",
        "feats = [f0, f1, f2, f3]"
      ]
    },
    {
      "cell_type": "code",
      "execution_count": 19,
      "metadata": {},
      "outputs": [
        {
          "output_type": "execute_result",
          "data": {
            "text/plain": [
              "  0   1   2   3   4   5   6   7   8   9    ... 337 338 339 340 341 342 343  \\\n",
              "0   0   0   0   0   0   0   0   0   0   0  ...   0   0   0   0   0   0   0   \n",
              "1   0   0   0   0   0   1   0   0   0   0  ...   0   0   0   0   0   1   0   \n",
              "2   0   0   0   0   0   0   0   0   0   0  ...   0   0   0   0   0   0   0   \n",
              "3   0   0   0   0   0   0   0   0   0   0  ...   0   0   0   0   0   0   0   \n",
              "4   0   0   0   0   0   0   0   0   0   0  ...   0   0   0   0   0   0   0   \n",
              "\n",
              "  344 345 346  \n",
              "0   0   0   0  \n",
              "1   0   0   0  \n",
              "2   0   1   0  \n",
              "3   0   0   0  \n",
              "4   0   0   0  \n",
              "\n",
              "[5 rows x 347 columns]"
            ],
            "text/html": "<div>\n<style scoped>\n    .dataframe tbody tr th:only-of-type {\n        vertical-align: middle;\n    }\n\n    .dataframe tbody tr th {\n        vertical-align: top;\n    }\n\n    .dataframe thead th {\n        text-align: right;\n    }\n</style>\n<table border=\"1\" class=\"dataframe\">\n  <thead>\n    <tr style=\"text-align: right;\">\n      <th></th>\n      <th>0</th>\n      <th>1</th>\n      <th>2</th>\n      <th>3</th>\n      <th>4</th>\n      <th>5</th>\n      <th>6</th>\n      <th>7</th>\n      <th>8</th>\n      <th>9</th>\n      <th>...</th>\n      <th>337</th>\n      <th>338</th>\n      <th>339</th>\n      <th>340</th>\n      <th>341</th>\n      <th>342</th>\n      <th>343</th>\n      <th>344</th>\n      <th>345</th>\n      <th>346</th>\n    </tr>\n  </thead>\n  <tbody>\n    <tr>\n      <th>0</th>\n      <td>0</td>\n      <td>0</td>\n      <td>0</td>\n      <td>0</td>\n      <td>0</td>\n      <td>0</td>\n      <td>0</td>\n      <td>0</td>\n      <td>0</td>\n      <td>0</td>\n      <td>...</td>\n      <td>0</td>\n      <td>0</td>\n      <td>0</td>\n      <td>0</td>\n      <td>0</td>\n      <td>0</td>\n      <td>0</td>\n      <td>0</td>\n      <td>0</td>\n      <td>0</td>\n    </tr>\n    <tr>\n      <th>1</th>\n      <td>0</td>\n      <td>0</td>\n      <td>0</td>\n      <td>0</td>\n      <td>0</td>\n      <td>1</td>\n      <td>0</td>\n      <td>0</td>\n      <td>0</td>\n      <td>0</td>\n      <td>...</td>\n      <td>0</td>\n      <td>0</td>\n      <td>0</td>\n      <td>0</td>\n      <td>0</td>\n      <td>1</td>\n      <td>0</td>\n      <td>0</td>\n      <td>0</td>\n      <td>0</td>\n    </tr>\n    <tr>\n      <th>2</th>\n      <td>0</td>\n      <td>0</td>\n      <td>0</td>\n      <td>0</td>\n      <td>0</td>\n      <td>0</td>\n      <td>0</td>\n      <td>0</td>\n      <td>0</td>\n      <td>0</td>\n      <td>...</td>\n      <td>0</td>\n      <td>0</td>\n      <td>0</td>\n      <td>0</td>\n      <td>0</td>\n      <td>0</td>\n      <td>0</td>\n      <td>0</td>\n      <td>1</td>\n      <td>0</td>\n    </tr>\n    <tr>\n      <th>3</th>\n      <td>0</td>\n      <td>0</td>\n      <td>0</td>\n      <td>0</td>\n      <td>0</td>\n      <td>0</td>\n      <td>0</td>\n      <td>0</td>\n      <td>0</td>\n      <td>0</td>\n      <td>...</td>\n      <td>0</td>\n      <td>0</td>\n      <td>0</td>\n      <td>0</td>\n      <td>0</td>\n      <td>0</td>\n      <td>0</td>\n      <td>0</td>\n      <td>0</td>\n      <td>0</td>\n    </tr>\n    <tr>\n      <th>4</th>\n      <td>0</td>\n      <td>0</td>\n      <td>0</td>\n      <td>0</td>\n      <td>0</td>\n      <td>0</td>\n      <td>0</td>\n      <td>0</td>\n      <td>0</td>\n      <td>0</td>\n      <td>...</td>\n      <td>0</td>\n      <td>0</td>\n      <td>0</td>\n      <td>0</td>\n      <td>0</td>\n      <td>0</td>\n      <td>0</td>\n      <td>0</td>\n      <td>0</td>\n      <td>0</td>\n    </tr>\n  </tbody>\n</table>\n<p>5 rows × 347 columns</p>\n</div>"
          },
          "metadata": {},
          "execution_count": 19
        }
      ],
      "source": [
        "f0.head()"
      ]
    },
    {
      "source": [
        "### Joining featnames and feats"
      ],
      "cell_type": "markdown",
      "metadata": {}
    },
    {
      "cell_type": "code",
      "execution_count": null,
      "metadata": {},
      "outputs": [],
      "source": [
        "for i in range(numOfDatasets):\n",
        "    dataset = []\n",
        "    dataset = feats[i]\n",
        "    dataset['id'] = featnames[i]\n",
        "    \n",
        "    cols = dataset.columns.tolist()\n",
        "    cols = cols[-1:] + cols[:-1]\n",
        "    dataset = dataset[cols]\n",
        "    \n",
        "    dataset = dataset.T\n",
        "    dataset.columns = dataset.iloc[0]\n",
        "    dataset = dataset.drop(dataset.index[0])\n",
        "    \n",
        "    dataset['id'] = id_list[i]\n",
        "    cols = dataset.columns.tolist()\n",
        "    cols = cols[-1:] + cols[:-1]\n",
        "    dataset = dataset[cols]\n",
        "    \n",
        "    dataset.to_csv(\"dataset/\"+ \"dataset\"+str(i)+\".csv\", index=False)"
      ]
    },
    {
      "source": [
        "### Creating and populating the DB"
      ],
      "cell_type": "markdown",
      "metadata": {}
    },
    {
      "cell_type": "code",
      "execution_count": 23,
      "metadata": {},
      "outputs": [],
      "source": [
        "# Establishing connection with the server\n",
        "p = getpass.getpass()\n",
        "connection = pymysql.connect(host='localhost', port=3306,user='root',passwd = p)\n",
        "cur = connection.cursor()\n",
        "\n",
        "cur.execute(\"CREATE DATABASE facebook;\")"
      ]
    },
    {
      "cell_type": "code",
      "execution_count": 24,
      "metadata": {},
      "outputs": [
        {
          "output_type": "stream",
          "name": "stdout",
          "text": [
            "('edge',)\n('user0',)\n('user1',)\n('user2',)\n('user3',)\n"
          ]
        }
      ],
      "source": [
        "# Filled database using MySQL Workbench.\n",
        "\n",
        "cur.execute(\"USE facebook;\")\n",
        "cur.execute(\"SHOW TABLES;\")\n",
        "for t in cur.fetchall():\n",
        "    print(t)"
      ]
    },
    {
      "source": [
        "### Formatting feats and featnames"
      ],
      "cell_type": "markdown",
      "metadata": {}
    },
    {
      "cell_type": "code",
      "metadata": {
        "tags": [],
        "id": "MazRxhk5zx14"
      },
      "source": [
        "feats = [[]] * numOfDatasets\n",
        "featnames = [[]] * numOfDatasets\n",
        "\n",
        "for i in range(numOfDatasets):\n",
        "    feats[i], featnames[i] = getUsersInfo(cur,\"user\" + str(i))"
      ],
      "execution_count": 25,
      "outputs": []
    },
    {
      "source": [
        "### Closing connection"
      ],
      "cell_type": "markdown",
      "metadata": {}
    },
    {
      "cell_type": "code",
      "execution_count": 22,
      "metadata": {},
      "outputs": [],
      "source": [
        "cur.close()\n",
        "connection.close()"
      ]
    },
    {
      "cell_type": "markdown",
      "metadata": {
        "id": "gc6rQwao9SZu"
      },
      "source": [
        "### Building the graph"
      ]
    },
    {
      "cell_type": "code",
      "metadata": {
        "id": "Vz29uC5p2xCq",
        "tags": []
      },
      "source": [
        "# One color for each dataset:\n",
        "colors = ['red','blue','chocolate','forestgreen']\n",
        "\n",
        "# G will contain info from all datasets.\n",
        "G = nx.Graph()\n",
        "\n",
        "for i in range(numOfDatasets):\n",
        "    createNodes(feats[i],featnames[i],G,colors[i])\n",
        "    getEdges(cur,G)"
      ],
      "execution_count": 31,
      "outputs": []
    },
    {
      "cell_type": "markdown",
      "metadata": {
        "id": "nH7Q7_h3C-9I"
      },
      "source": [
        "### Plotting G (sketch)"
      ]
    },
    {
      "cell_type": "code",
      "metadata": {
        "colab": {
          "base_uri": "https://localhost:8080/",
          "height": 248
        },
        "id": "8jyRUnmM3mlG",
        "outputId": "5ac1552c-2910-4275-9986-f4d6f6ac922d"
      },
      "source": [
        "### PLEASE SEE THE IMAGE IN THE MAIN FOLDER ###\n",
        "\n",
        "#posG = nx.random_layout(G)  # positions for all nodes\n",
        "#\n",
        "#labels = {}\n",
        "#for n in G.nodes:\n",
        "#    labels[n] = n\n",
        "#\n",
        "# \n",
        "#nx.draw_networkx(G,\n",
        "#                 pos=posG,\n",
        "#                 label=\"Social Circles\",\n",
        "#                 labels=labels,\n",
        "#                 with_labels=True,\n",
        "#                 font_size=0.5,\n",
        "#                 width=0.01,\n",
        "#                 node_color= [nx.get_node_attributes(G,'color')[g] for g in G.nodes],\n",
        "#                 node_size=3\n",
        "#                 )\n",
        "#\n",
        "#plt.savefig(\"socialCirclesSketch.jpg\",format=\"jpg\",dpi=700)\n",
        "#plt.show()"
      ],
      "execution_count": 34,
      "outputs": []
    },
    {
      "source": [
        "### Converting the graph to Json"
      ],
      "cell_type": "markdown",
      "metadata": {}
    },
    {
      "cell_type": "code",
      "execution_count": 7,
      "metadata": {},
      "outputs": [],
      "source": [
        "with open('./dataset/graphs.json', 'w') as f:\n",
        "    f.write(json.dumps(nx.cytoscape_data(G)))"
      ]
    },
    {
      "source": [
        "### Deploying on the web"
      ],
      "cell_type": "markdown",
      "metadata": {}
    },
    {
      "cell_type": "code",
      "execution_count": 28,
      "metadata": {},
      "outputs": [],
      "source": [
        "import urllib.request\n",
        "import dash\n",
        "import dash_html_components as html\n",
        "import dash_core_components as dcc\n",
        "import dash_cytoscape as cyto\n",
        "from dash.dependencies import Input, Output\n",
        "\n",
        "app = dash.Dash(__name__)\n",
        "app.title = \"Social Circles\"\n",
        "server = app.server\n",
        "\n",
        "app.scripts.config.serve_locally = True\n",
        "app.css.config.serve_locally = True\n",
        "\n",
        "\n",
        "with open('./dataset/graphs.json', 'r') as f:\n",
        "    data = json.loads(f.read())\n",
        "    \n",
        "with open('./styles/cy-style.json') as f:\n",
        "    stylesheet = json.loads(f.read())\n",
        "\n",
        "graph = data['elements']\n",
        "\n",
        "styles = {\n",
        "    'container': {\n",
        "        'position': 'fixed',\n",
        "        'display': 'flex',\n",
        "        'flex-direction': 'row',\n",
        "        'height': '100%',\n",
        "        'width': '100%',\n",
        "        'font-family': 'arial, sans-serif'\n",
        "    },\n",
        "    'cy-container': {\n",
        "        'flex': '1',\n",
        "        'position': 'relative'\n",
        "    },\n",
        "    'cytoscape': {\n",
        "        'position': 'absolute',\n",
        "        'width': '100%',\n",
        "        'height': '100%',\n",
        "        'z-index': 999\n",
        "    },\n",
        "    'responsive': {\n",
        "        'margin-right': '30px',\n",
        "        'height': '10%'\n",
        "    },\n",
        "    'list': {\n",
        "        'list-style': 'none',\n",
        "        'text-align': 'left'\n",
        "    }\n",
        "}\n",
        "    \n",
        "# App\n",
        "app.layout = html.Div(style=styles['container'], children=[\n",
        "    html.Div([\n",
        "        html.Div(\"Interpretation\", style={\n",
        "            'text-align': 'center',\n",
        "            'font-size': '20', \n",
        "            'font-weight': 'bolder',\n",
        "            'margin-bottom': '20px',\n",
        "            'margin-top': '30vh'\n",
        "            }),\n",
        "        html.Div(\"• The higher the opacity/size, the more friends\", style={\n",
        "            'font-size': '20', \n",
        "            'margin-bottom': '10px'\n",
        "            }),\n",
        "        html.Div(\"• Genders :\", style={\n",
        "            'font-size': '20', \n",
        "            }),\n",
        "        html.Ul(children=[\n",
        "            html.Li(\"🔺:  Undefined\"),\n",
        "            html.Li(\"🟡:    Female\"),\n",
        "            html.Li(\"🟦:    Male\"),\n",
        "        ], style=styles['list']),\n",
        "         html.Div(\"• Isolated Graph = social bubble\", style={\n",
        "            'font-size': '20',\n",
        "            'margin-bottom': '10px'\n",
        "            }),\n",
        "        html.Div(\"• Cycle = Social Circle\", style={\n",
        "            'font-size': '20',\n",
        "            'margin-bottom': '10px'\n",
        "            }),\n",
        "        html.Div(\"• You can zoom in/out and navigate around the graph\", style={\n",
        "            'font-size': '20',\n",
        "            'margin-bottom': '10px'\n",
        "            }),\n",
        "    ], style={'border-right': '1px solid black', 'padding': '5px'}),\n",
        "    html.Div(className='cy-container', style=styles['cy-container'], children=[\n",
        "        cyto.Cytoscape(\n",
        "            id='cytoscape',\n",
        "            elements=graph,\n",
        "            stylesheet=stylesheet,\n",
        "            style=styles['cytoscape'],\n",
        "            layout={\n",
        "                'name': 'cose',\n",
        "                'idealEdgeLength': 100,\n",
        "                'nodeOverlap': 100,\n",
        "                'refresh': 20,\n",
        "                'fit': True,\n",
        "                'padding': 30,\n",
        "                'randomize': False,\n",
        "                'componentSpacing': 100,\n",
        "                'nodeRepulsion': 40000000,\n",
        "                'edgeElasticity': 100,\n",
        "                'nestingFactor': 5,\n",
        "                'gravity': 80,\n",
        "                'numIter': 1000,\n",
        "                'initialTemp': 800,\n",
        "                'coolingFactor': 0.95,\n",
        "                'minTemp': 1.0\n",
        "            },\n",
        "            responsive=True\n",
        "        )\n",
        "    ])\n",
        "])\n",
        "\n",
        "@app.callback(Output('cytoscape', 'responsive'), [Input('toggle-button', 'n_clicks')])\n",
        "def toggle_responsive(n_clicks):\n",
        "    n_clicks = 2 if n_clicks is None else n_clicks\n",
        "    toggle_on = n_clicks % 2 == 0\n",
        "    return toggle_on\n",
        "\n",
        "@app.callback(Output('toggle-text', 'children'), [Input('cytoscape', 'responsive')])\n",
        "def update_toggle_text(responsive):\n",
        "    return '\\t' + 'Responsive ' + ('On' if responsive else 'Off')\n",
        "\n",
        "app.css.config.serve_locally = True\n",
        "app.scripts.config.serve_locally = True\n",
        "\n",
        "if __name__ == '__main__':\n",
        "    app.run_server()"
      ]
    }
  ]
}
