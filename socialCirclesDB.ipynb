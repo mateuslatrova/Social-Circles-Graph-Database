{
  "nbformat": 4,
  "nbformat_minor": 0,
  "metadata": {
    "language_info": {
      "codemirror_mode": {
        "name": "ipython",
        "version": 3
      },
      "file_extension": ".py",
      "mimetype": "text/x-python",
      "name": "python",
      "nbconvert_exporter": "python",
      "pygments_lexer": "ipython3",
      "version": "3.8.3-final"
    },
    "orig_nbformat": 2,
    "kernelspec": {
      "name": "python3",
      "display_name": "Python 3"
    },
    "colab": {
      "name": "A2.ipynb",
      "provenance": []
    }
  },
  "cells": [
    {
      "cell_type": "code",
      "metadata": {
        "id": "ZK77dPajzx13"
      },
      "source": [
        "import networkx as nx\n",
        "import matplotlib.pyplot as plt\n",
        "import json"
      ],
      "execution_count": 2,
      "outputs": []
    },
    {
      "source": [
        "### Defining functions"
      ],
      "cell_type": "markdown",
      "metadata": {}
    },
    {
      "cell_type": "code",
      "execution_count": 3,
      "metadata": {},
      "outputs": [],
      "source": [
        "def formatCircles(circlesData, circles):\n",
        "    \n",
        "    for i in range(5):\n",
        "        circles.append([])\n",
        "        sCircle = []\n",
        "        k = 0\n",
        "        for line in circlesData[i]:\n",
        "            sCircle = line.split()\n",
        "            iCircle = []\n",
        "            for j in range(1,len(sCircle)):\n",
        "                iCircle.append(int(sCircle[j]))\n",
        "            circles[i].append([])\n",
        "            circles[i][k] = iCircle\n",
        "            k += 1\n",
        "\n",
        "def formatFeatnames(data,featnames):\n",
        "    \n",
        "    for i in range(5):\n",
        "        featnames.append([])\n",
        "        for line in data[i]:\n",
        "            splittedLine = line.split()\n",
        "            word = \"\"\n",
        "            for j in range(1,len(splittedLine)-1):\n",
        "                word += splittedLine[j] + \" \"\n",
        "            word += splittedLine[len(splittedLine)-1]\n",
        "            featnames[i].append(word)\n",
        "\n",
        "def createNodes(data,featnames,g,color):\n",
        "  \n",
        "    for line in data:\n",
        "        splittedLine = line.split()\n",
        "        j = int(splittedLine[0])\n",
        "        g.add_node(j)\n",
        "        g.nodes[j]['color'] = color\n",
        "        k = 1\n",
        "        for featname in featnames:\n",
        "            g.nodes[j][featname] = splittedLine[k]\n",
        "            k += 1\n",
        "\n",
        "def createEdges(data,g):\n",
        "    \n",
        "    for line in data:\n",
        "        words = line.split()\n",
        "        e1 = int(words[0])\n",
        "        e2 = int(words[1])\n",
        "        g.add_edge(e1,e2)\n"
      ]
    },
    {
      "cell_type": "markdown",
      "metadata": {
        "id": "uts0IU9Az16P"
      },
      "source": [
        "### Reading datasets and processing data"
      ]
    },
    {
      "cell_type": "code",
      "metadata": {
        "tags": [],
        "id": "MazRxhk5zx14"
      },
      "source": [
        "circlesData = []\n",
        "edgesData = []\n",
        "featsData = []\n",
        "featnamesData = []\n",
        "\n",
        "for i in range(5):\n",
        "    if i == 1:\n",
        "        i+= 1\n",
        "        \n",
        "    edgesData.append(open(\"dataset/\" + str(i) + \".edges\",\"r\"))\n",
        "    featsData.append(open(\"dataset/\" + str(i) + \".feat\",\"r\"))\n",
        "    featnamesData.append(open(\"dataset/\" + str(i) + \".featnames\",\"r\"))\n",
        "    circlesData.append(open(\"dataset/\" + str(i) + \".circles\",\"r\"))\n",
        "\n",
        "circles = []\n",
        "featnames = []\n",
        "\n",
        "formatFeatnames(featnamesData,featnames)\n",
        "formatCircles(circlesData,circles)"
      ],
      "execution_count": 4,
      "outputs": []
    },
    {
      "cell_type": "markdown",
      "metadata": {
        "id": "gc6rQwao9SZu"
      },
      "source": [
        "### Building the graph"
      ]
    },
    {
      "cell_type": "code",
      "metadata": {
        "id": "Vz29uC5p2xCq",
        "tags": []
      },
      "source": [
        "# One color for each dataset:\n",
        "colors = ['red','blue','chocolate','forestgreen','yellow',]\n",
        "\n",
        "# G will contain info from all datasets.\n",
        "G = nx.Graph()\n",
        "\n",
        "for i in range(5):\n",
        "    createNodes(featsData[i],featnames[i],G,colors[i])\n",
        "    createEdges(edgesData[i],G)"
      ],
      "execution_count": 5,
      "outputs": []
    },
    {
      "cell_type": "markdown",
      "metadata": {
        "id": "nH7Q7_h3C-9I"
      },
      "source": [
        "### Plotting G"
      ]
    },
    {
      "cell_type": "code",
      "metadata": {
        "colab": {
          "base_uri": "https://localhost:8080/",
          "height": 248
        },
        "id": "8jyRUnmM3mlG",
        "outputId": "5ac1552c-2910-4275-9986-f4d6f6ac922d"
      },
      "source": [
        "#posG = nx.random_layout(G)  # positions for all nodes\n",
        "#\n",
        "#labels = {}\n",
        "#for n in G.nodes:\n",
        "#    labels[n] = n\n",
        "#\n",
        "# PLEASE SEE THE IMAGE IN THE \"images\" FOLDER\n",
        "# \n",
        "# #nx.draw_networkx(G,\n",
        "#                 pos=posG,\n",
        "#                 label=\"Social Circles\",\n",
        "#                 labels=labels,\n",
        "#                 with_labels=True,\n",
        "#                 font_size=0.5,\n",
        "#                 width=0.01,\n",
        "#                 node_color= [nx.get_node_attributes(G,'color')[g] for g in G.nodes],\n",
        "#                 node_size=3\n",
        "#                 )\n",
        "#\n",
        "#plt.savefig(\"socialCircles.jpg\",format=\"jpg\",dpi=700)\n",
        "#plt.show()"
      ],
      "execution_count": 6,
      "outputs": []
    },
    {
      "cell_type": "markdown",
      "metadata": {
        "id": "LLAv4LE0KoIe"
      },
      "source": [
        "### Plotting cycles of G"
      ]
    },
    {
      "cell_type": "code",
      "metadata": {
        "colab": {
          "base_uri": "https://localhost:8080/",
          "height": 248
        },
        "id": "6mU-17cXzx14",
        "outputId": "a1adbc92-c148-4cb9-96b4-9b1c2a22a708"
      },
      "source": [
        "for i in range(5):\n",
        "    for circle in circles[i]:\n",
        "        c = nx.cycle_graph(circle)\n",
        "        for n in circle:\n",
        "            c.nodes[n]['color'] = G.nodes[n]['color']\n",
        "        posc = nx.circular_layout(c)\n",
        "        # PLEASE SEE THE IMAGE IN THE \"images\" FOLDER\n",
        "        #nx.draw_networkx(c,\n",
        "        #                pos=posc,\n",
        "        #                font_size=0.1,\n",
        "        #                width=0.1,\n",
        "        #                node_color= [nx.get_node_attributes(c,'color')[j] for j in            #                c.nodes],   \n",
        "        #                node_size=3\n",
        "        #                )\n",
        "#plt.savefig(\"onlyCircles.jpg\",format=\"jpg\",dpi=700)    \n",
        "#plt.show()"
      ],
      "execution_count": 7,
      "outputs": []
    },
    {
      "source": [
        "### Converting the graph to Json"
      ],
      "cell_type": "markdown",
      "metadata": {}
    },
    {
      "cell_type": "code",
      "execution_count": 8,
      "metadata": {},
      "outputs": [],
      "source": [
        "with open('./dataset/graphs.json', 'w') as f:\n",
        "    f.write(json.dumps(nx.cytoscape_data(G)))"
      ]
    },
    {
      "cell_type": "markdown",
      "metadata": {
        "id": "py17INgfQpnH"
      },
      "source": [
        "### Closing Files"
      ]
    },
    {
      "cell_type": "code",
      "metadata": {
        "id": "pv9Bh7crzx15"
      },
      "source": [
        "for i in range(5):\n",
        "    circlesData[i].close()\n",
        "    edgesData[i].close()\n",
        "    featsData[i].close()\n",
        "    featnamesData[i].close()"
      ],
      "execution_count": 9,
      "outputs": []
    },
    {
      "source": [
        "### Deploying on the web"
      ],
      "cell_type": "markdown",
      "metadata": {}
    },
    {
      "cell_type": "code",
      "execution_count": null,
      "metadata": {},
      "outputs": [],
      "source": [
        "import os\n",
        "import json\n",
        "import urllib.request\n",
        "\n",
        "import dash\n",
        "import dash_html_components as html\n",
        "import dash_core_components as dcc\n",
        "import dash_cytoscape as cyto\n",
        "from dash.dependencies import Input, Output\n",
        "\n",
        "\n",
        "app = dash.Dash(__name__)\n",
        "app.title = \"Social Networks\"\n",
        "server = app.server\n",
        "\n",
        "app.scripts.config.serve_locally = True\n",
        "app.css.config.serve_locally = True\n",
        "\n",
        "\n",
        "with open('./dataset/graphs.json', 'r') as f:\n",
        "    data = json.loads(f.read())\n",
        "    \n",
        "with open('./styles/cy-style.json') as f:\n",
        "    stylesheet = json.loads(f.read())\n",
        "\n",
        "graph = data['elements']\n",
        "\n",
        "styles = {\n",
        "    'container': {\n",
        "        'position': 'fixed',\n",
        "        'display': 'flex',\n",
        "        'flex-direction': 'row',\n",
        "        'height': '100%',\n",
        "        'width': '100%'\n",
        "    },\n",
        "    'cy-container': {\n",
        "        'flex': '1',\n",
        "        'position': 'relative'\n",
        "    },\n",
        "    'cytoscape': {\n",
        "        'position': 'absolute',\n",
        "        'width': '100%',\n",
        "        'height': '100%',\n",
        "        'z-index': 999\n",
        "    },\n",
        "    'responsive': {\n",
        "        'margin-right': '30px',\n",
        "        'height': '10%'\n",
        "    },\n",
        "    'list': {\n",
        "        'list-style': 'none',\n",
        "        'text-align': 'left'\n",
        "    }\n",
        "}\n",
        "    \n",
        "# App\n",
        "app.layout = html.Div(style=styles['container'], children=[\n",
        "    html.Div([\n",
        "        html.Button(\"Responsive Toggle\", id='toggle-button'),\n",
        "        html.Div(id='toggle-text')\n",
        "    ], style=styles['responsive']),\n",
        "    html.Div([\n",
        "        html.Div(\"Number of friends and colors\", style={\n",
        "            'font-size': '20', \n",
        "            'font-weight': 'bolder'\n",
        "            }),\n",
        "        html.Ul(children=[\n",
        "            html.Li(\"1:   Grey\",style={\n",
        "                'background-color':'#333',\n",
        "                'color': '#fff'\n",
        "            }),\n",
        "            html.Li(\"2:   Carmine\",style={\n",
        "                'background-color':'#992244', \n",
        "                'color': '#fff'\n",
        "            }),\n",
        "            html.Li(\"3:   Black\", style={\n",
        "                'background-color':'#000', \n",
        "                'color': '#fff'\n",
        "            }),\n",
        "            html.Li(\"4:   Purple\", style={\n",
        "                'background-color':'purple', \n",
        "                'color': '#fff'\n",
        "            }),\n",
        "            html.Li(\"5:   Brown\", style={\n",
        "                'background-color':'brown', \n",
        "                'color': '#fff'\n",
        "            }),\n",
        "            html.Li(\"6:   Yellow\", style={\n",
        "                'background-color':'yellow',\n",
        "            }),\n",
        "            html.Li(\"7:   Forestgreen\", style={\n",
        "                'background-color':'forestgreen', \n",
        "            }),\n",
        "            html.Li(\"8:   Chocolate\", style={\n",
        "                'background-color': 'chocolate', \n",
        "                'color': '#fff'\n",
        "            }),\n",
        "            html.Li(\"9:   Red\", style={\n",
        "                'background-color':'red',\n",
        "                'color': '#fff'\n",
        "            }),\n",
        "            html.Li(\"10+: Blue\", style={\n",
        "                'background-color':'blue',\n",
        "                'color': '#fff'\n",
        "            })\n",
        "        ], style=styles['list'])\n",
        "    ], style={'heigh': '10%'}),\n",
        "    html.Div(className='cy-container', style=styles['cy-container'], children=[\n",
        "        cyto.Cytoscape(\n",
        "            id='cytoscape',\n",
        "            elements=graph,\n",
        "            stylesheet=stylesheet,\n",
        "            style=styles['cytoscape'],\n",
        "            layout={\n",
        "                'name': 'cose',\n",
        "                'idealEdgeLength': 100,\n",
        "                'nodeOverlap': 100,\n",
        "                'refresh': 20,\n",
        "                'fit': True,\n",
        "                'padding': 30,\n",
        "                'randomize': False,\n",
        "                'componentSpacing': 100,\n",
        "                'nodeRepulsion': 40000000,\n",
        "                'edgeElasticity': 100,\n",
        "                'nestingFactor': 5,\n",
        "                'gravity': 80,\n",
        "                'numIter': 1000,\n",
        "                'initialTemp': 800,\n",
        "                'coolingFactor': 0.95,\n",
        "                'minTemp': 1.0\n",
        "            },\n",
        "            responsive=True\n",
        "        )\n",
        "    ])\n",
        "])\n",
        "\n",
        "@app.callback(Output('cytoscape', 'responsive'), [Input('toggle-button', 'n_clicks')])\n",
        "def toggle_responsive(n_clicks):\n",
        "    n_clicks = 2 if n_clicks is None else n_clicks\n",
        "    toggle_on = n_clicks % 2 == 0\n",
        "    return toggle_on\n",
        "\n",
        "@app.callback(Output('toggle-text', 'children'), [Input('cytoscape', 'responsive')])\n",
        "def update_toggle_text(responsive):\n",
        "    return '\\t' + 'Responsive ' + ('On' if responsive else 'Off')\n",
        "\n",
        "app.css.config.serve_locally = True\n",
        "app.scripts.config.serve_locally = True\n",
        "\n",
        "if __name__ == '__main__':\n",
        "    app.run_server()"
      ]
    }
  ]
}