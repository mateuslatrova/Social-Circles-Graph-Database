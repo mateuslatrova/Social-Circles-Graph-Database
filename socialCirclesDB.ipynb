{
  "nbformat": 4,
  "nbformat_minor": 0,
  "metadata": {
    "language_info": {
      "codemirror_mode": {
        "name": "ipython",
        "version": 3
      },
      "file_extension": ".py",
      "mimetype": "text/x-python",
      "name": "python",
      "nbconvert_exporter": "python",
      "pygments_lexer": "ipython3",
      "version": "3.8.3-final"
    },
    "orig_nbformat": 2,
    "kernelspec": {
      "name": "python3",
      "display_name": "Python 3"
    },
    "colab": {
      "name": "A2.ipynb",
      "provenance": []
    }
  },
  "cells": [
    {
      "cell_type": "code",
      "metadata": {
        "id": "ZK77dPajzx13"
      },
      "source": [
        "import numpy as np\n",
        "import networkx as nx\n",
        "import matplotlib.pyplot as plt"
      ],
      "execution_count": 40,
      "outputs": []
    },
    {
      "source": [
        "### Defining functions"
      ],
      "cell_type": "markdown",
      "metadata": {}
    },
    {
      "cell_type": "code",
      "execution_count": 41,
      "metadata": {},
      "outputs": [],
      "source": [
        "def formatCircles(circlesData, circles):\n",
        "    \n",
        "    for i in range(5):\n",
        "        circles.append([])\n",
        "        sCircle = []\n",
        "        k = 0\n",
        "        for line in circlesData[i]:\n",
        "            sCircle = line.split()\n",
        "            iCircle = []\n",
        "            for j in range(1,len(sCircle)):\n",
        "                iCircle.append(int(sCircle[j]))\n",
        "            circles[i].append([])\n",
        "            circles[i][k] = iCircle\n",
        "            k += 1\n",
        "\n",
        "def formatFeatnames(data,featnames):\n",
        "    \n",
        "    for i in range(5):\n",
        "        featnames.append([])\n",
        "        for line in data[i]:\n",
        "            splittedLine = line.split()\n",
        "            word = \"\"\n",
        "            for j in range(1,len(splittedLine)-1):\n",
        "                word += splittedLine[j] + \" \"\n",
        "            word += splittedLine[len(splittedLine)-1]\n",
        "            featnames[i].append(word)\n",
        "\n",
        "def createNodes(data,featnames,g,color):\n",
        "  \n",
        "    for line in data:\n",
        "        splittedLine = line.split()\n",
        "        j = int(splittedLine[0])\n",
        "        g.add_node(j)\n",
        "        g.nodes[j]['color'] = color\n",
        "        k = 1\n",
        "        for featname in featnames:\n",
        "            g.nodes[j][featname] = int(splittedLine[k])\n",
        "            k += 1\n",
        "\n",
        "def createEdges(data,g):\n",
        "    \n",
        "    for line in data:\n",
        "        words = line.split()\n",
        "        e1 = int(words[0])\n",
        "        e2 = int(words[1])\n",
        "        g.add_edge(e1,e2)\n"
      ]
    },
    {
      "cell_type": "markdown",
      "metadata": {
        "id": "uts0IU9Az16P"
      },
      "source": [
        "### Reading datasets and processing data"
      ]
    },
    {
      "cell_type": "code",
      "metadata": {
        "tags": [],
        "id": "MazRxhk5zx14"
      },
      "source": [
        "circlesData = []\n",
        "edgesData = []\n",
        "featsData = []\n",
        "featnamesData = []\n",
        "\n",
        "for i in range(5):\n",
        "    edgesData.append(open(\"dataset/\" + str(i) + \".edges\",\"r\"))\n",
        "    featsData.append(open(\"dataset/\" + str(i) + \".feat\",\"r\"))\n",
        "    featnamesData.append(open(\"dataset/\" + str(i) + \".featnames\",\"r\"))\n",
        "    circlesData.append(open(\"dataset/\" + str(i) + \".circles\",\"r\"))\n",
        "\n",
        "circles = []\n",
        "featnames = []\n",
        "\n",
        "formatFeatnames(featnamesData,featnames)\n",
        "formatCircles(circlesData,circles)"
      ],
      "execution_count": 42,
      "outputs": []
    },
    {
      "cell_type": "markdown",
      "metadata": {
        "id": "gc6rQwao9SZu"
      },
      "source": [
        "### Building the graph"
      ]
    },
    {
      "cell_type": "code",
      "metadata": {
        "id": "Vz29uC5p2xCq",
        "tags": []
      },
      "source": [
        "# One color for each dataset:\n",
        "colors = ['red','blue','chocolate','forestgreen','yellow',]\n",
        "\n",
        "# G will contain info from all datasets.\n",
        "G = nx.Graph()\n",
        "\n",
        "for i in range(5):\n",
        "    createNodes(featsData[i],featnames[i],G,colors[i])\n",
        "    createEdges(edgesData[i],G)"
      ],
      "execution_count": 43,
      "outputs": []
    },
    {
      "cell_type": "markdown",
      "metadata": {
        "id": "nH7Q7_h3C-9I"
      },
      "source": [
        "### Plotting G"
      ]
    },
    {
      "cell_type": "code",
      "metadata": {
        "colab": {
          "base_uri": "https://localhost:8080/",
          "height": 248
        },
        "id": "8jyRUnmM3mlG",
        "outputId": "5ac1552c-2910-4275-9986-f4d6f6ac922d"
      },
      "source": [
        "posG = nx.random_layout(G)  # positions for all nodes\n",
        "\n",
        "labels = {}\n",
        "for n in G.nodes:\n",
        "    labels[n] = n\n",
        "\n",
        "# PLEASE SEE THE IMAGE IN THE \"images\" FOLDER\n",
        "# \n",
        "# #nx.draw_networkx(G,\n",
        "#                 pos=posG,\n",
        "#                 label=\"Social Circles\",\n",
        "#                 labels=labels,\n",
        "#                 with_labels=True,\n",
        "#                 font_size=0.5,\n",
        "#                 width=0.01,\n",
        "#                 node_color= [nx.get_node_attributes(G,'color')[g] for g in G.nodes],\n",
        "#                 node_size=3\n",
        "#                 )\n",
        "#\n",
        "#plt.savefig(\"socialCircles.jpg\",format=\"jpg\",dpi=700)\n",
        "#plt.show()"
      ],
      "execution_count": 45,
      "outputs": []
    },
    {
      "cell_type": "markdown",
      "metadata": {
        "id": "LLAv4LE0KoIe"
      },
      "source": [
        "### Plotting cycles of G"
      ]
    },
    {
      "cell_type": "code",
      "metadata": {
        "colab": {
          "base_uri": "https://localhost:8080/",
          "height": 248
        },
        "id": "6mU-17cXzx14",
        "outputId": "a1adbc92-c148-4cb9-96b4-9b1c2a22a708"
      },
      "source": [
        "for i in range(5):\n",
        "    for circle in circles[i]:\n",
        "        c = nx.cycle_graph(circle)\n",
        "        for n in circle:\n",
        "            c.nodes[n]['color'] = G.nodes[n]['color']\n",
        "        posc = nx.circular_layout(c)\n",
        "        # PLEASE SEE THE IMAGE IN THE \"images\" FOLDER\n",
        "        #nx.draw_networkx(c,\n",
        "        #                pos=posc,\n",
        "        #                font_size=0.1,\n",
        "        #                width=0.1,\n",
        "        #                node_color= [nx.get_node_attributes(c,'color')[j] for j in            #                c.nodes],   \n",
        "        #                node_size=3\n",
        "        #                )\n",
        "#plt.savefig(\"onlyCircles.jpg\",format=\"jpg\",dpi=700)    \n",
        "#plt.show()"
      ],
      "execution_count": 46,
      "outputs": []
    },
    {
      "cell_type": "code",
      "execution_count": null,
      "metadata": {},
      "outputs": [],
      "source": [
        "with open('./graphs.json', 'w') as f:\n",
        "    f.write(json.dumps(nx.cytoscape_data(G)))"
      ]
    },
    {
      "cell_type": "markdown",
      "metadata": {
        "id": "py17INgfQpnH"
      },
      "source": [
        "### Closing Files"
      ]
    },
    {
      "cell_type": "code",
      "metadata": {
        "id": "pv9Bh7crzx15"
      },
      "source": [
        "for i in range(5):\n",
        "    circlesData[i].close()\n",
        "    edgesData[i].close()\n",
        "    featsData[i].close()\n",
        "    featnamesData[i].close()"
      ],
      "execution_count": 47,
      "outputs": []
    }
  ]
}