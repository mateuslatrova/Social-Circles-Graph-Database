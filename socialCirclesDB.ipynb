{
  "nbformat": 4,
  "nbformat_minor": 0,
  "metadata": {
    "language_info": {
      "codemirror_mode": {
        "name": "ipython",
        "version": 3
      },
      "file_extension": ".py",
      "mimetype": "text/x-python",
      "name": "python",
      "nbconvert_exporter": "python",
      "pygments_lexer": "ipython3",
      "version": "3.8.3-final"
    },
    "orig_nbformat": 2,
    "kernelspec": {
      "name": "python3",
      "display_name": "Python 3"
    },
    "colab": {
      "name": "A2.ipynb",
      "provenance": []
    }
  },
  "cells": [
    {
      "cell_type": "code",
      "metadata": {
        "id": "ZK77dPajzx13"
      },
      "source": [
        "import networkx as nx\n",
        "import matplotlib.pyplot as plt\n",
        "import json\n",
        "import os\n",
        "import sys\n",
        "import pandas as pd\n",
        "import getpass\n",
        "import pymysql"
      ],
      "execution_count": 1,
      "outputs": []
    },
    {
      "source": [
        "### Defining functions"
      ],
      "cell_type": "markdown",
      "metadata": {}
    },
    {
      "cell_type": "code",
      "execution_count": 30,
      "metadata": {},
      "outputs": [],
      "source": [
        "def getUsersInfo(cur,user):\n",
        "    cur.execute(\"SELECT * FROM \" + user)\n",
        "    feats = []\n",
        "    for feat in cur.fetchall():\n",
        "        feats.append(feat)\n",
        "\n",
        "    featnames = []\n",
        "    cur.execute(\"DESCRIBE \" + user)\n",
        "    for col in cur.fetchall():\n",
        "        if col[0] == 'id':\n",
        "            continue\n",
        "        featnames.append(col[0])\n",
        "\n",
        "    return feats, featnames\n",
        "    \n",
        "def createNodes(feats,featnames,g,color):\n",
        "  \n",
        "    for node in feats:\n",
        "        label = node[0]\n",
        "        g.add_node(label)\n",
        "        size = len(node)\n",
        "        for i in range(1,size):        \n",
        "            g.nodes[label]['color'] = color\n",
        "        k = 1\n",
        "        for featname in featnames:\n",
        "            g.nodes[label][featname] = node[k]\n",
        "            k += 1\n",
        "\n",
        "def createEdges(cur,g):\n",
        "    \n",
        "    cur.execute(\"SELECT x,y FROM edge\")\n",
        "    edges = []\n",
        "\n",
        "    for e in cur.fetchall():\n",
        "        edges.append(e)\n",
        "    \n",
        "    for e in edges:\n",
        "        g.add_edge(e[0],e[1])\n",
        "\n"
      ]
    },
    {
      "source": [
        "### Creating the DB"
      ],
      "cell_type": "markdown",
      "metadata": {}
    },
    {
      "cell_type": "code",
      "execution_count": 23,
      "metadata": {},
      "outputs": [],
      "source": [
        "# Establishing connection with the server\n",
        "p = getpass.getpass()\n",
        "connection = pymysql.connect(host='localhost', port=3306,user='root',passwd = p)\n",
        "cur = connection.cursor()\n",
        "\n",
        "cur.execute(\"CREATE DATABASE facebook;\")"
      ]
    },
    {
      "cell_type": "code",
      "execution_count": 24,
      "metadata": {},
      "outputs": [
        {
          "output_type": "stream",
          "name": "stdout",
          "text": [
            "('edge',)\n('user0',)\n('user1',)\n('user2',)\n('user3',)\n"
          ]
        }
      ],
      "source": [
        "# Filled database using MySQL Workbench.\n",
        "\n",
        "cur.execute(\"USE facebook;\")\n",
        "cur.execute(\"SHOW TABLES;\")\n",
        "for t in cur.fetchall():\n",
        "    print(t)"
      ]
    },
    {
      "source": [
        "### Formating feats and featnames"
      ],
      "cell_type": "markdown",
      "metadata": {}
    },
    {
      "cell_type": "code",
      "metadata": {
        "tags": [],
        "id": "MazRxhk5zx14"
      },
      "source": [
        "feats = [[]] * 4\n",
        "featnames = [[]] * 4\n",
        "\n",
        "for i in range(4):\n",
        "    feats[i], featnames[i] = getUsersInfo(cur,\"user\" + str(i))"
      ],
      "execution_count": 25,
      "outputs": []
    },
    {
      "source": [
        "### Closing connection"
      ],
      "cell_type": "markdown",
      "metadata": {}
    },
    {
      "cell_type": "code",
      "execution_count": 22,
      "metadata": {},
      "outputs": [],
      "source": [
        "cur.close()\n",
        "connection.close()"
      ]
    },
    {
      "cell_type": "markdown",
      "metadata": {
        "id": "gc6rQwao9SZu"
      },
      "source": [
        "### Building the graph"
      ]
    },
    {
      "cell_type": "code",
      "metadata": {
        "id": "Vz29uC5p2xCq",
        "tags": []
      },
      "source": [
        "# One color for each dataset:\n",
        "colors = ['red','blue','chocolate','forestgreen']\n",
        "\n",
        "# G will contain info from all datasets.\n",
        "G = nx.Graph()\n",
        "\n",
        "for i in range(4):\n",
        "    createNodes(feats[i],featnames[i],G,colors[i])\n",
        "    createEdges(cur,G)"
      ],
      "execution_count": 31,
      "outputs": []
    },
    {
      "cell_type": "markdown",
      "metadata": {
        "id": "nH7Q7_h3C-9I"
      },
      "source": [
        "### Plotting G (sketch)"
      ]
    },
    {
      "cell_type": "code",
      "metadata": {
        "colab": {
          "base_uri": "https://localhost:8080/",
          "height": 248
        },
        "id": "8jyRUnmM3mlG",
        "outputId": "5ac1552c-2910-4275-9986-f4d6f6ac922d"
      },
      "source": [
        "### PLEASE SEE THE IMAGE IN THE MAIN FOLDER ###\n",
        "\n",
        "#posG = nx.random_layout(G)  # positions for all nodes\n",
        "#\n",
        "#labels = {}\n",
        "#for n in G.nodes:\n",
        "#    labels[n] = n\n",
        "#\n",
        "# \n",
        "#nx.draw_networkx(G,\n",
        "#                 pos=posG,\n",
        "#                 label=\"Social Circles\",\n",
        "#                 labels=labels,\n",
        "#                 with_labels=True,\n",
        "#                 font_size=0.5,\n",
        "#                 width=0.01,\n",
        "#                 node_color= [nx.get_node_attributes(G,'color')[g] for g in G.nodes],\n",
        "#                 node_size=3\n",
        "#                 )\n",
        "#\n",
        "#plt.savefig(\"socialCirclesSketch.jpg\",format=\"jpg\",dpi=700)\n",
        "#plt.show()"
      ],
      "execution_count": 34,
      "outputs": []
    },
    {
      "source": [
        "### Converting the graph to Json"
      ],
      "cell_type": "markdown",
      "metadata": {}
    },
    {
      "cell_type": "code",
      "execution_count": 7,
      "metadata": {},
      "outputs": [],
      "source": [
        "with open('./dataset/graphs.json', 'w') as f:\n",
        "    f.write(json.dumps(nx.cytoscape_data(G)))"
      ]
    },
    {
      "source": [
        "### Deploying on the web"
      ],
      "cell_type": "markdown",
      "metadata": {}
    },
    {
      "cell_type": "code",
      "execution_count": 9,
      "metadata": {},
      "outputs": [],
      "source": [
        "import urllib.request\n",
        "import dash\n",
        "import dash_html_components as html\n",
        "import dash_core_components as dcc\n",
        "import dash_cytoscape as cyto\n",
        "from dash.dependencies import Input, Output\n",
        "\n",
        "app = dash.Dash(__name__)\n",
        "app.title = \"Social Circles\"\n",
        "server = app.server\n",
        "\n",
        "app.scripts.config.serve_locally = True\n",
        "app.css.config.serve_locally = True\n",
        "\n",
        "\n",
        "with open('./dataset/graphs.json', 'r') as f:\n",
        "    data = json.loads(f.read())\n",
        "    \n",
        "with open('./styles/cy-style.json') as f:\n",
        "    stylesheet = json.loads(f.read())\n",
        "\n",
        "graph = data['elements']\n",
        "\n",
        "styles = {\n",
        "    'container': {\n",
        "        'position': 'fixed',\n",
        "        'display': 'flex',\n",
        "        'flex-direction': 'row',\n",
        "        'height': '100%',\n",
        "        'width': '100%',\n",
        "        'font-family': 'arial, sans-serif'\n",
        "    },\n",
        "    'cy-container': {\n",
        "        'flex': '1',\n",
        "        'position': 'relative'\n",
        "    },\n",
        "    'cytoscape': {\n",
        "        'position': 'absolute',\n",
        "        'width': '100%',\n",
        "        'height': '100%',\n",
        "        'z-index': 999\n",
        "    },\n",
        "    'responsive': {\n",
        "        'margin-right': '30px',\n",
        "        'height': '10%'\n",
        "    },\n",
        "    'list': {\n",
        "        'list-style': 'none',\n",
        "        'text-align': 'left'\n",
        "    }\n",
        "}\n",
        "    \n",
        "# App\n",
        "app.layout = html.Div(style=styles['container'], children=[\n",
        "    html.Div([\n",
        "        html.Div(\"Interpretation\", style={\n",
        "            'text-align': 'center',\n",
        "            'font-size': '20', \n",
        "            'font-weight': 'bolder',\n",
        "            'margin-bottom': '20px',\n",
        "            'margin-top': '30vh'\n",
        "            }),\n",
        "        html.Div(\"• The higher the opacity/size, the more friends\", style={\n",
        "            'font-size': '20', \n",
        "            'margin-bottom': '10px'\n",
        "            }),\n",
        "        html.Div(\"• Genders :\", style={\n",
        "            'font-size': '20', \n",
        "            }),\n",
        "        html.Ul(children=[\n",
        "            html.Li(\"🔺:  Undefined\"),\n",
        "            html.Li(\"🟡:    Female\"),\n",
        "            html.Li(\"🟦:    Male\"),\n",
        "        ], style=styles['list']),\n",
        "         html.Div(\"• Isolated Graph = social bubble\", style={\n",
        "            'font-size': '20',\n",
        "            }),\n",
        "    ], style={'border-right': '1px solid black', 'padding': '5px'}),\n",
        "    html.Div(className='cy-container', style=styles['cy-container'], children=[\n",
        "        cyto.Cytoscape(\n",
        "            id='cytoscape',\n",
        "            elements=graph,\n",
        "            stylesheet=stylesheet,\n",
        "            style=styles['cytoscape'],\n",
        "            layout={\n",
        "                'name': 'cose',\n",
        "                'idealEdgeLength': 100,\n",
        "                'nodeOverlap': 100,\n",
        "                'refresh': 20,\n",
        "                'fit': True,\n",
        "                'padding': 30,\n",
        "                'randomize': False,\n",
        "                'componentSpacing': 100,\n",
        "                'nodeRepulsion': 40000000,\n",
        "                'edgeElasticity': 100,\n",
        "                'nestingFactor': 5,\n",
        "                'gravity': 80,\n",
        "                'numIter': 1000,\n",
        "                'initialTemp': 800,\n",
        "                'coolingFactor': 0.95,\n",
        "                'minTemp': 1.0\n",
        "            },\n",
        "            responsive=True\n",
        "        )\n",
        "    ])\n",
        "])\n",
        "\n",
        "@app.callback(Output('cytoscape', 'responsive'), [Input('toggle-button', 'n_clicks')])\n",
        "def toggle_responsive(n_clicks):\n",
        "    n_clicks = 2 if n_clicks is None else n_clicks\n",
        "    toggle_on = n_clicks % 2 == 0\n",
        "    return toggle_on\n",
        "\n",
        "@app.callback(Output('toggle-text', 'children'), [Input('cytoscape', 'responsive')])\n",
        "def update_toggle_text(responsive):\n",
        "    return '\\t' + 'Responsive ' + ('On' if responsive else 'Off')\n",
        "\n",
        "app.css.config.serve_locally = True\n",
        "app.scripts.config.serve_locally = True\n",
        "\n",
        "if __name__ == '__main__':\n",
        "    app.run_server()"
      ]
    }
  ]
}